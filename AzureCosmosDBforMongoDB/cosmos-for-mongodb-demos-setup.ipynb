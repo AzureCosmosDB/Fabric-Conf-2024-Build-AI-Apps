{
 "cells": [
  {
   "cell_type": "markdown",
   "metadata": {},
   "source": [
    "# Movie Lens\n",
    "Subset of the Movie Lens 25M dataset\n",
    "\n",
    "# Setup, Vectorize and Load Data\n",
    "\n",
    "In this tutorial, we'll demonstrate how to leverage a sample dataset stored in Azure Cosmos DB for MongoDB to ground OpenAI models. We'll do this taking advantage of Azure Cosmos DB for Mongo DB vCore's [vector similarity search](https://learn.microsoft.com/azure/cosmos-db/mongodb/vcore/vector-search) functionality. In the end, we'll create an interatice chat session with the GPT-3.5 completions model to answer questions about Azure services informed by our dataset. This process is known as Retrieval Augmented Generation, or RAG."
   ]
  },
  {
   "cell_type": "code",
   "execution_count": null,
   "metadata": {},
   "outputs": [],
   "source": [
    "! pip install openai\n",
    "! pip install pymongo\n",
    "! pip install python-dotenv\n",
    "! pip install urlopen"
   ]
  },
  {
   "cell_type": "code",
   "execution_count": null,
   "metadata": {},
   "outputs": [],
   "source": [
    "import pymongo\n",
    "import zipfile\n",
    "import json\n",
    "from openai import AzureOpenAI\n",
    "from dotenv import dotenv_values\n",
    "import urllib\n",
    "from tenacity import retry, stop_after_attempt, wait_random_exponential\n",
    "from time import sleep"
   ]
  },
  {
   "cell_type": "markdown",
   "metadata": {},
   "source": [
    "# Load environment values and initiate clients"
   ]
  },
  {
   "cell_type": "code",
   "execution_count": null,
   "metadata": {},
   "outputs": [],
   "source": [
    "# specify the name of the .env file name \n",
    "env_name = \"../fabconf.env\" # following example.env template change to your own .env file name\n",
    "config = dotenv_values(env_name)\n",
    "cosmos_conn = config['cosmos_for_mongodb_connection_string']\n",
    "cosmos_database = config['cosmos_database_name']\n",
    "cosmos_collection = config['cosmos_collection_name']\n",
    "cosmos_vector_property = config['cosmos_vector_property_name']\n",
    "cosmos_cache = config['cosmos_cache_collection_name']\n",
    "\n",
    "openai_endpoint = config['openai_endpoint']\n",
    "openai_key = config['openai_key']\n",
    "openai_api_version = config['openai_api_version']\n",
    "openai_embeddings_deployment = config['openai_embeddings_deployment']\n",
    "openai_embeddings_model = config['openai_embeddings_model']\n",
    "openai_embeddings_dimensions = int(config['openai_embeddings_dimensions'])\n",
    "openai_completions_deployment = config['openai_completions_deployment']\n",
    "openai_completions_model = config['openai_completions_model']"
   ]
  },
  {
   "cell_type": "code",
   "execution_count": null,
   "metadata": {},
   "outputs": [],
   "source": [
    "# Create the Azure Cosmos DB for MongoDB client\n",
    "cosmos_client = pymongo.MongoClient(cosmos_conn)\n",
    "# Create the OpenAI client\n",
    "openai_client = AzureOpenAI(azure_endpoint=openai_endpoint, api_key=openai_key, api_version=openai_api_version)"
   ]
  },
  {
   "cell_type": "markdown",
   "metadata": {},
   "source": [
    "#  Create a collection with a vector index\n",
    "\n",
    "This function takes a database object, a collection name, the name of the document property that will store vectors, and the number of vector dimensions used for the embeddings."
   ]
  },
  {
   "cell_type": "code",
   "execution_count": null,
   "metadata": {},
   "outputs": [],
   "source": [
    "def create_collection_and_vector_index(database, cosmos_collection, vector_property, embeddings_dimensions):\n",
    "\n",
    "    collection = database[cosmos_collection]\n",
    "\n",
    "    database.command(\n",
    "        {\n",
    "            \"createIndexes\": cosmos_collection,\n",
    "            \"indexes\": [\n",
    "                {\n",
    "                    \"name\": \"VectorSearchIndex\",\n",
    "                    \"key\": {\n",
    "                        vector_property: \"cosmosSearch\"\n",
    "                    },\n",
    "                    \"cosmosSearchOptions\": { \n",
    "                        \"kind\": \"vector-hnsw\", \n",
    "                        \"m\": 16, # default value \n",
    "                        \"efConstruction\": 64, # default value \n",
    "                        \"similarity\": \"COS\", \n",
    "                        \"dimensions\": embeddings_dimensions\n",
    "                    } \n",
    "                } \n",
    "            ] \n",
    "        }\n",
    "    )  \n",
    "\n",
    "    return collection"
   ]
  },
  {
   "cell_type": "markdown",
   "metadata": {},
   "source": [
    "# Create the Database and Collections with Vector Index\n",
    "\n",
    "Create a collection for the movie data and another as a conversation cache"
   ]
  },
  {
   "cell_type": "code",
   "execution_count": null,
   "metadata": {},
   "outputs": [],
   "source": [
    "# Check if the collection database and drop if it does\n",
    "if cosmos_database in cosmos_client.list_database_names():\n",
    "    cosmos_client.drop_database(cosmos_database)\n",
    "\n",
    "# Create the database FabConfDB\n",
    "database = cosmos_client[cosmos_database]\n",
    "\n",
    "# Create the data collection with vector index\n",
    "collection = create_collection_and_vector_index(database, cosmos_collection, cosmos_vector_property, openai_embeddings_dimensions)\n",
    "\n",
    "# Create the cache collection with vector index\n",
    "cache = create_collection_and_vector_index(database, cosmos_cache, cosmos_vector_property, openai_embeddings_dimensions)"
   ]
  },
  {
   "cell_type": "markdown",
   "metadata": {},
   "source": [
    "# Generate embeddings from Azure OpenAI\n",
    "\n",
    "Generate embeddings from passed in text. Add retry to handle any throttling due to quota limits."
   ]
  },
  {
   "cell_type": "code",
   "execution_count": null,
   "metadata": {},
   "outputs": [],
   "source": [
    "@retry(wait=wait_random_exponential(min=1, max=200), stop=stop_after_attempt(20))\n",
    "def generate_embeddings(text):\n",
    "    \n",
    "    response = openai_client.embeddings.create(\n",
    "        input=text,\n",
    "        model=openai_embeddings_deployment,\n",
    "        dimensions=openai_embeddings_dimensions\n",
    "    )\n",
    "    \n",
    "    embeddings = response.model_dump()\n",
    "    return embeddings['data'][0]['embedding']"
   ]
  },
  {
   "cell_type": "code",
   "execution_count": null,
   "metadata": {},
   "outputs": [],
   "source": [
    "# Unzip the data file\n",
    "with zipfile.ZipFile(\"../Data/MovieLens-4489-256D.zip\", 'r') as zip_ref:\n",
    "    zip_ref.extractall(\"../Data\")\n",
    "zip_ref.close()"
   ]
  },
  {
   "cell_type": "code",
   "execution_count": null,
   "metadata": {},
   "outputs": [],
   "source": [
    "# Load the data file\n",
    "data =[]\n",
    "with open('../Data/MovieLens-4489-256D.json', 'r') as d:\n",
    "    data = json.load(d)"
   ]
  },
  {
   "cell_type": "code",
   "execution_count": null,
   "metadata": {},
   "outputs": [],
   "source": [
    "# Peek at the first document\n",
    "data[0]"
   ]
  },
  {
   "cell_type": "markdown",
   "metadata": {},
   "source": [
    "# Stream, vectorize & store\n",
    "\n",
    "Stream the data out of blob storage, generate vectors on it, then store in Azure Cosmos DB for MongoDB"
   ]
  },
  {
   "cell_type": "code",
   "execution_count": null,
   "metadata": {},
   "outputs": [],
   "source": [
    "counter = 0\n",
    "# iterate through the stream, generate vectors and insert into collection\n",
    "for object in data:\n",
    "    #The following code to create vector embeddings for the data is commented out as the sample data is already vectorized.\n",
    "    # #vectorArray = generate_embeddings(\"Title:\" + data[i]['original_title'] + \", Tagline:\" + data[i]['tagline'] + \", Overview:\" + data[i]['overview'])\n",
    "    #object[cosmos_vector_property] = vectorArray\n",
    "\n",
    "    #insert the document into the collection\n",
    "    collection.insert_one(object)\n",
    "\n",
    "    counter += 1\n",
    "    if counter % 100 == 0:\n",
    "        print(\"Inserted {} documents into collection: '{}'.\".format(counter, collection.name))\n",
    "\n",
    "print (\"Upsert completed!\")"
   ]
  },
  {
   "cell_type": "markdown",
   "metadata": {},
   "source": [
    "Now you're ready to start building your Chatbot!"
   ]
  }
 ],
 "metadata": {
  "kernelspec": {
   "display_name": ".venv",
   "language": "python",
   "name": "python3"
  },
  "language_info": {
   "codemirror_mode": {
    "name": "ipython",
    "version": 3
   },
   "file_extension": ".py",
   "mimetype": "text/x-python",
   "name": "python",
   "nbconvert_exporter": "python",
   "pygments_lexer": "ipython3",
   "version": "3.11.0"
  }
 },
 "nbformat": 4,
 "nbformat_minor": 2
}
