{
 "cells": [
  {
   "cell_type": "markdown",
   "metadata": {},
   "source": [
    "# Movie Lens\n",
    "Subset of the Movie Lens 25M dataset\n",
    "\n",
    "# Setup, Vectorize and Load Data\n",
    "\n",
    "In this tutorial, we'll demonstrate how to leverage a sample dataset stored in Azure Cosmos DB for MongoDB to ground OpenAI models. We'll do this taking advantage of Azure Cosmos DB for Mongo DB vCore's [vector similarity search](https://learn.microsoft.com/azure/cosmos-db/mongodb/vcore/vector-search) functionality. In the end, we'll create an interatice chat session with the GPT-3.5 completions model to answer questions about Azure services informed by our dataset. This process is known as Retrieval Augmented Generation, or RAG."
   ]
  },
  {
   "cell_type": "code",
   "execution_count": null,
   "metadata": {},
   "outputs": [],
   "source": [
    "! pip install openai\n",
    "! pip install pymongo\n",
    "! pip install python-dotenv\n",
    "! pip install urlopen\n",
    "! pip install azure-cosmos"
   ]
  },
  {
   "cell_type": "code",
   "execution_count": null,
   "metadata": {},
   "outputs": [],
   "source": [
    "# Import the required libraries\n",
    "import zipfile\n",
    "import ast\n",
    "import asyncio\n",
    "from openai import AzureOpenAI\n",
    "from dotenv import dotenv_values\n",
    "import urllib\n",
    "from tenacity import retry, stop_after_attempt, wait_random_exponential\n",
    "from time import sleep\n",
    "import time\n",
    "import json\n",
    "import uuid\n",
    "from azure.cosmos.aio import CosmosClient\n",
    "from azure.cosmos import exceptions, PartitionKey"
   ]
  },
  {
   "cell_type": "markdown",
   "metadata": {},
   "source": [
    "# Load environment values and intantiate clients"
   ]
  },
  {
   "cell_type": "code",
   "execution_count": null,
   "metadata": {},
   "outputs": [],
   "source": [
    "# Variables\n",
    "# specify the name of the .env file name \n",
    "env_name = \"../fabconf.env\" # following example.env template change to your own .env file name\n",
    "config = dotenv_values(env_name)\n",
    "\n",
    "cosmos_conn = config['cosmos_nosql_connection_string']\n",
    "cosmos_key = config['cosmos_nosql_key']\n",
    "cosmos_database = config['cosmos_database_name']\n",
    "cosmos_collection = config['cosmos_collection_name']\n",
    "cosmos_vector_property = config['cosmos_vector_property_name']\n",
    "cosmos_cache = config['cosmos_cache_collection_name']\n",
    "\n",
    "openai_endpoint = config['openai_endpoint']\n",
    "openai_key = config['openai_key']\n",
    "openai_api_version = config['openai_api_version']\n",
    "openai_embeddings_deployment = config['openai_embeddings_deployment']\n",
    "openai_embeddings_dimensions = int(config['openai_embeddings_dimensions'])\n",
    "openai_completions_deployment = config['openai_completions_deployment']\n",
    "\n",
    "# Create the Azure Cosmos DB for NoSQL client\n",
    "cosmos_client = CosmosClient(url=cosmos_conn, credential=cosmos_key)\n",
    "# Create the OpenAI client\n",
    "openai_client = AzureOpenAI(azure_endpoint=openai_endpoint, api_key=openai_key, api_version=openai_api_version)"
   ]
  },
  {
   "cell_type": "markdown",
   "metadata": {},
   "source": [
    "#  Create a database and containers with vector policies\n",
    "\n",
    "This function takes a database object, a collection name, the name of the document property that will store vectors, and the number of vector dimensions used for the embeddings."
   ]
  },
  {
   "cell_type": "code",
   "execution_count": null,
   "metadata": {},
   "outputs": [],
   "source": [
    "db = await cosmos_client.create_database_if_not_exists(cosmos_database)\n",
    "\n",
    "# Create the vector embedding policy to specify vector details\n",
    "vector_embedding_policy = {\n",
    "    \"vectorEmbeddings\": [ \n",
    "        { \n",
    "            \"path\":\"/\" + cosmos_vector_property,\n",
    "            \"dataType\":\"float32\",\n",
    "            \"distanceFunction\":\"dotproduct\",\n",
    "            \"dimensions\":openai_embeddings_dimensions\n",
    "        }, \n",
    "    ]\n",
    "}\n",
    "\n",
    "# Create the vector index policy to specify vector details\n",
    "indexing_policy = {\n",
    "    \"vectorIndexes\": [ \n",
    "        {\n",
    "            \"path\": \"/\"+cosmos_vector_property, \n",
    "            \"type\": \"quantizedFlat\" \n",
    "        }\n",
    "    ]\n",
    "} \n",
    "\n",
    "# Create the data collection with vector index\n",
    "try:\n",
    "    container = await db.create_container_if_not_exists( id=cosmos_collection, \n",
    "                                                  partition_key=PartitionKey(path='/id'), \n",
    "                                                  vector_embedding_policy=vector_embedding_policy,\n",
    "                                                  offer_throughput=1000) \n",
    "    print('Container with id \\'{0}\\' created'.format(id)) \n",
    "\n",
    "except exceptions.CosmosHttpResponseError: \n",
    "        raise \n",
    "\n",
    "# Create the cache collection with vector index\n",
    "try:\n",
    "    cache_container = await db.create_container_if_not_exists( id=cosmos_cache, \n",
    "                                                  partition_key=PartitionKey(path='/id'), \n",
    "                                                  indexing_policy=indexing_policy,\n",
    "                                                  vector_embedding_policy=vector_embedding_policy,\n",
    "                                                  offer_throughput=1000) \n",
    "    print('Container with id \\'{0}\\' created'.format(id)) \n",
    "\n",
    "except exceptions.CosmosHttpResponseError: \n",
    "        raise \n"
   ]
  },
  {
   "cell_type": "markdown",
   "metadata": {},
   "source": [
    "# Generate embeddings from Azure OpenAI\n",
    "\n",
    "We'll create a a helper function to generate embeddings from passed in text using Azure OpenAI. We'll also add a retry to handle any throttling due to quota limits.\n"
   ]
  },
  {
   "cell_type": "code",
   "execution_count": null,
   "metadata": {},
   "outputs": [],
   "source": [
    "@retry(wait=wait_random_exponential(min=1, max=10), stop=stop_after_attempt(20))\n",
    "def generate_embeddings(text):\n",
    "    \n",
    "    response = openai_client.embeddings.create(\n",
    "        input=text,\n",
    "        model=openai_embeddings_deployment,\n",
    "        dimensions=openai_embeddings_dimensions\n",
    "    )\n",
    "    \n",
    "    embeddings = response.model_dump()\n",
    "    return embeddings['data'][0]['embedding']"
   ]
  },
  {
   "cell_type": "markdown",
   "metadata": {},
   "source": [
    "# Load the data from the JSON file"
   ]
  },
  {
   "cell_type": "code",
   "execution_count": null,
   "metadata": {},
   "outputs": [],
   "source": [
    "# Unzip the data file\n",
    "with zipfile.ZipFile(\"../Data/MovieLens-4489-256D.zip\", 'r') as zip_ref:\n",
    "    zip_ref.extractall(\"../Data\")\n",
    "zip_ref.close()"
   ]
  },
  {
   "cell_type": "code",
   "execution_count": null,
   "metadata": {},
   "outputs": [],
   "source": [
    "# Load the data file\n",
    "data =[]\n",
    "with open('../Data/MovieLens-4489-256D.json', 'r') as d:\n",
    "    data = json.load(d)"
   ]
  },
  {
   "cell_type": "code",
   "execution_count": null,
   "metadata": {},
   "outputs": [],
   "source": [
    "# Peek at the first document\n",
    "data[0]"
   ]
  },
  {
   "cell_type": "code",
   "execution_count": null,
   "metadata": {},
   "outputs": [],
   "source": [
    "# View the number of documents in the data (4489)\n",
    "len(data) "
   ]
  },
  {
   "cell_type": "markdown",
   "metadata": {},
   "source": [
    "# Store data in Azure Cosmos DB. \n",
    "Upsert data into Azure Cosmos DB for NoSQL. Optionally, vectorize properties of the document (this has been done in the sample data)"
   ]
  },
  {
   "cell_type": "code",
   "execution_count": null,
   "metadata": {},
   "outputs": [],
   "source": [
    "async def insert_data():\n",
    "        #stream = urllib.request.urlopen(storage_file_url)\n",
    "        counter = 0\n",
    "        list_to_upsert = []\n",
    "        await cosmos_client.__aenter__()\n",
    "        for object in data:\n",
    "\n",
    "                #The following code to create vector embeddings for the data is commented out as the sample data is already vectorized.\n",
    "                #vectorArray = generate_embeddings(\"Title:\" + data[i]['original_title'] + \", Tagline:\" + data[i]['tagline'] + \", Overview:\" + data[i]['overview'])\n",
    "                #object[cosmos_vector_property] = vectorArray\n",
    "                await container.upsert_item(body=object)\n",
    "\n",
    "                # print progress every 100 upserts. \n",
    "                counter += 1\n",
    "                if counter % 100 == 0:\n",
    "                        print(\"Inserted {} documents into collection.\".format(counter))\n",
    "        print (\"Upsert completed!\")"
   ]
  },
  {
   "cell_type": "markdown",
   "metadata": {},
   "source": [
    "Now we insert the data."
   ]
  },
  {
   "cell_type": "code",
   "execution_count": null,
   "metadata": {},
   "outputs": [],
   "source": [
    "# Insert the data asynchronously\n",
    "await insert_data()"
   ]
  },
  {
   "cell_type": "markdown",
   "metadata": {},
   "source": [
    "Now you're ready to start building your Chatbot!"
   ]
  }
 ],
 "metadata": {
  "kernelspec": {
   "display_name": ".venv",
   "language": "python",
   "name": "python3"
  },
  "language_info": {
   "codemirror_mode": {
    "name": "ipython",
    "version": 3
   },
   "file_extension": ".py",
   "mimetype": "text/x-python",
   "name": "python",
   "nbconvert_exporter": "python",
   "pygments_lexer": "ipython3",
   "version": "3.11.0"
  }
 },
 "nbformat": 4,
 "nbformat_minor": 2
}
